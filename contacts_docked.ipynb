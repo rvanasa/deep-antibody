{
  "nbformat": 4,
  "nbformat_minor": 0,
  "metadata": {
    "colab": {
      "name": "contacts-docked.ipynb",
      "provenance": [],
      "collapsed_sections": [],
      "include_colab_link": true
    },
    "kernelspec": {
      "name": "python3",
      "display_name": "Python 3"
    }
  },
  "cells": [
    {
      "cell_type": "markdown",
      "metadata": {
        "id": "view-in-github",
        "colab_type": "text"
      },
      "source": [
        "<a href=\"https://colab.research.google.com/github/rvanasa/deep-antibody/blob/master/contacts_docked.ipynb\" target=\"_parent\"><img src=\"https://colab.research.google.com/assets/colab-badge.svg\" alt=\"Open In Colab\"/></a>"
      ]
    },
    {
      "cell_type": "code",
      "metadata": {
        "id": "Y-GuD3h9bCgF",
        "colab_type": "code",
        "cellView": "form",
        "colab": {}
      },
      "source": [
        "#@title Google Drive setup\n",
        "\n",
        "from IPython.display import clear_output\n",
        "from google.colab import drive\n",
        "drive.mount('/gdrive')\n",
        "clear_output()"
      ],
      "execution_count": null,
      "outputs": []
    },
    {
      "cell_type": "code",
      "metadata": {
        "id": "NzhPToWjLHgL",
        "colab_type": "code",
        "cellView": "form",
        "colab": {}
      },
      "source": [
        "#@title Workspace setup\n",
        "\n",
        "!pip install -q biopython pdb-tools\n",
        "\n",
        "from IPython.display import clear_output, display\n",
        "clear_output()\n",
        "\n",
        "import os\n",
        "import numpy as np\n",
        "import pandas as pd\n",
        "import matplotlib.pyplot as plt\n",
        "import requests\n",
        "import Bio\n",
        "import Bio.PDB\n",
        "from Bio.PDB import DSSP\n",
        "\n",
        "contact_buffer = 4\n",
        "contact_window_size = contact_buffer * 2 + 1\n",
        "\n",
        "amino_acids = ['ALA', 'ARG', 'ASN', 'ASP', 'CYS', 'GLU', 'GLN', 'GLY', 'HIS', 'ILE', 'LEU', 'LYS', 'MET', 'PHE', 'PRO', 'SER', 'THR', 'TRP', 'TYR', 'VAL', '???']\n",
        "oneletters = 'ARNDCEQGHILKMFPSTWYV'\n",
        "ssletters = 'HBEGITS'\n",
        "\n",
        "parser = Bio.PDB.PDBParser(QUIET=True)\n",
        "\n",
        "def parse(ident, cache_dir=None):\n",
        "  cache_dir = cache_dir.rstrip('/') + '/' if cache_dir else ''\n",
        "  filename = ident if ident.endswith('pdb') else f'{cache_dir}{ident}.pdb'\n",
        "  if '.' not in ident and not os.path.exists(filename):\n",
        "    !wget -N https://files.rcsb.org/download/{ident}.pdb\n",
        "    !mv {ident}.pdb {cache_dir}\n",
        "  return parser.get_structure(ident, filename)\n",
        "\n",
        "\n",
        "def create_seq(rs):\n",
        "  return ''.join(oneletters[amino_acids.index(r)] if r in amino_acids else 'X' for r in rs)\n",
        "\n",
        "\n",
        "def cmd(command):\n",
        "  if not isinstance(command, str):\n",
        "    for c in command:\n",
        "      cmd(c)\n",
        "  elif os.system(command):\n",
        "    raise Exception(f'Non-zero exit code in command: $ {command}')"
      ],
      "execution_count": null,
      "outputs": []
    },
    {
      "cell_type": "code",
      "metadata": {
        "id": "w6uX_Bc--Kzp",
        "colab_type": "code",
        "cellView": "form",
        "colab": {}
      },
      "source": [
        "#@title Contact point calculation\n",
        "\n",
        "import numpy.linalg as lin\n",
        "\n",
        "residue_contact_margin = 5.5 # Empirical\n",
        "\n",
        "def compute_contacts(filename, bname, bmodel, aname, amodel, keys, contact_dist_threshold):\n",
        "  hk, lk, ak = keys\n",
        "\n",
        "  structure = parse(filename)\n",
        "  print(bname, bmodel, hk, lk, '::', aname, amodel, ak)\n",
        "\n",
        "  def trim_residues(residues):\n",
        "    return [r for r in residues if r.resname in amino_acids]\n",
        "\n",
        "  data = []\n",
        "  for model in structure.get_models():\n",
        "\n",
        "    chain_map = {chain.id: chain for chain in model.get_chains()}\n",
        "\n",
        "    H = chain_map.get(hk)\n",
        "    L = chain_map.get(lk)\n",
        "    A = chain_map[ak]\n",
        "    \n",
        "    ca = A\n",
        "\n",
        "    a_res = trim_residues(ca)\n",
        "    a_coords = [np.array([a.coord for a in r]) for r in a_res]\n",
        "    a_centers = np.array([a.mean(axis=0) for a in a_coords])\n",
        "\n",
        "    ct = 0\n",
        "    for btype, cb in (('H', H), ('L', L)):\n",
        "      if cb is None:\n",
        "        continue\n",
        "      \n",
        "      b_res = trim_residues(cb)\n",
        "      b_coords = [np.array([a.coord for a in r]) for r in b_res]\n",
        "      b_centers = np.array([a.mean(axis=0) for a in b_coords])\n",
        "\n",
        "      norms = lin.norm(a_centers[:, None] - b_centers, axis=2)\n",
        "      locs = np.argwhere(norms <= contact_dist_threshold + residue_contact_margin * 2)\n",
        "      if len(locs):\n",
        "        for an, bn in locs:\n",
        "          min_dist = np.min(lin.norm(a_coords[an][:, None] - b_coords[bn], axis=2))\n",
        "          if min_dist <= contact_dist_threshold:\n",
        "            data.append({\n",
        "                'BFile': f'{bname}.pdb',\n",
        "                'BModel': bmodel,\n",
        "                'BType': btype,\n",
        "                'BKey': cb.id,\n",
        "                'BIndex': bn,\n",
        "                'BResidue': b_res[bn].resname,\n",
        "                'AFile': f'{aname}.pdb',\n",
        "                'AModel': amodel,\n",
        "                'AKey': ca.id,\n",
        "                'AIndex': an,\n",
        "                'AResidue': a_res[an].resname,\n",
        "                'Distance': min_dist,\n",
        "            })\n",
        "            ct += 1\n",
        "\n",
        "    print(model.id, ct)\n",
        "\n",
        "  # if not data:\n",
        "  #   return\n",
        "\n",
        "  df = pd.DataFrame(data)\n",
        "  return df"
      ],
      "execution_count": null,
      "outputs": []
    },
    {
      "cell_type": "code",
      "metadata": {
        "id": "NjlIPR5Yigif",
        "colab_type": "code",
        "cellView": "form",
        "colab": {}
      },
      "source": [
        "#@title Contact point visualization\n",
        "\n",
        "def plot_contacts(df_all, exponent):\n",
        "  if not len(df_all):\n",
        "    print('Empty dataframe')\n",
        "    return\n",
        "\n",
        "  for (bfile, bmodel, afile, amodel), df in df_all.groupby(['BFile', 'BModel', 'AFile', 'AModel']):\n",
        "\n",
        "    fig, (ax, *xs) = plt.subplots(1, 1 + len(df.BKey.unique()), figsize=(16, 4))\n",
        "\n",
        "    ax.set_title(f'{bfile} {bmodel} :: {afile} {amodel}')\n",
        "    ax.set_xlabel('Antigen')\n",
        "    df.AIndex.hist(bins=40, weights=1 / df.Distance ** exponent, ax=ax)\n",
        "\n",
        "    for (bkey, dfg), x in zip(df.groupby('BKey'), xs):\n",
        "      x.set_title(bkey)\n",
        "      x.set_xlabel('Antigen')\n",
        "      x.hexbin(dfg.AIndex, dfg.BIndex, gridsize=30)\n",
        "    \n",
        "    plt.show()"
      ],
      "execution_count": null,
      "outputs": []
    },
    {
      "cell_type": "code",
      "metadata": {
        "id": "7B0OCvvmlY1D",
        "colab_type": "code",
        "colab": {}
      },
      "source": [
        "!rm -f ./outputs && ln -s \"/gdrive/Shared drives/TA(CO)^2 Re-Epitoping/Data/Hex\" ./outputs"
      ],
      "execution_count": null,
      "outputs": []
    },
    {
      "cell_type": "code",
      "metadata": {
        "id": "DqodVGr8FDPi",
        "colab_type": "code",
        "colab": {
          "base_uri": "https://localhost:8080/",
          "height": 34
        },
        "outputId": "effd2860-f54d-440b-af3c-2d27400ce1a9"
      },
      "source": [
        "!wget -N https://raw.githubusercontent.com/rvanasa/deep-antibody/master/thera_collection.zip\n",
        "!unzip -nq thera_collection.zip\n",
        "clear_output()\n",
        "\n",
        "df_cov = pd.read_csv('cov_preprocessed.csv')\n",
        "dfdx = pd.read_csv('docked_preprocessed.csv')\n",
        "dfdx = dfdx[dfdx.File.isin(df_cov.File)]\n",
        "print(list(dfdx.File.unique()))"
      ],
      "execution_count": null,
      "outputs": [
        {
          "output_type": "stream",
          "text": [
            "[]\n"
          ],
          "name": "stdout"
        }
      ]
    },
    {
      "cell_type": "code",
      "metadata": {
        "id": "7ibPLz3WfBV8",
        "colab_type": "code",
        "colab": {
          "base_uri": "https://localhost:8080/",
          "height": 34
        },
        "outputId": "978b3088-d7ea-4b5e-f43b-922692318dcb"
      },
      "source": [
        "ensemble_contact_dist_threshold = 3\n",
        "\n",
        "!wget -N https://raw.githubusercontent.com/rvanasa/deep-antibody/master/thera_collection.zip\n",
        "!unzip -nq thera_collection.zip\n",
        "clear_output()\n",
        "\n",
        "dft = pd.read_csv('thera_prioritized.csv')\n",
        "dft = pd.concat([dfdx, dft]).reset_index()#.sort_values('File')\n",
        "\n",
        "afiles = sorted(dfdx.File.unique())\n",
        "bfiles = sorted(dft.File.unique())\n",
        "\n",
        "# completed = np.zeros((len(afiles), len(bfiles)))\n",
        "\n",
        "for i, brow in dft.iterrows():\n",
        "  bfile, bmodel, hk, lk = brow[['File', 'Model', 'HKey', 'LKey']]\n",
        "  bname = bfile.replace('.pdb', '')\n",
        "\n",
        "  print(bname, bmodel, ''.join([hk, lk]))\n",
        "\n",
        "  for j, arow in dft.iterrows():\n",
        "    afile, amodel, ak = arow[['File', 'Model', 'AKey']]\n",
        "    aname = afile.replace('.pdb', '')\n",
        "    keys = ''.join([hk, lk, ak])\n",
        "\n",
        "    parts = [bname, bmodel, aname, amodel, keys]\n",
        "    part_str = '_'.join(str(s) for s in parts)\n",
        "\n",
        "    # assert hk != lk != ak\n",
        "    if not (hk != lk != ak):\n",
        "        # print('Key collision')\n",
        "        continue\n",
        "    \n",
        "    hex_path = f'outputs/{part_str}_Docked_Hex.pdb'\n",
        "    if os.path.isfile(hex_path):\n",
        "      # if afile in afiles:\n",
        "      #   completed[afiles.index(afile), bfiles.index(bfile)] = 1\n",
        "\n",
        "      csv_path = hex_path.replace('.pdb', '.csv')\n",
        "      csv_path = csv_path[:csv_path.rindex('/')] + '/Contacts' + csv_path[csv_path.rindex('/'):]\n",
        "      if os.path.isfile(csv_path):\n",
        "        continue\n",
        "\n",
        "      print(hex_path)\n",
        "      cmd([\n",
        "          f'rm -f input.pdb && pdb_tidy {hex_path} | pdb_reatom | pdb_reres > input.pdb',\n",
        "      ])\n",
        "      df = compute_contacts('input.pdb', *parts, ensemble_contact_dist_threshold)\n",
        "      df.round(4).to_csv(csv_path, index=False)\n",
        "\n",
        "      clear_output()\n",
        "      plot_contacts(df, 2)\n",
        "\n",
        "clear_output()\n",
        "print('Done')\n",
        "\n",
        "# import seaborn as sns\n",
        "# fig, ax = plt.subplots(figsize=(20, 6))\n",
        "# sns.heatmap(completed, ax=ax, cmap='Blues', xticklabels=bfiles, yticklabels=afiles, cbar=False)\n",
        "# plt.show()"
      ],
      "execution_count": null,
      "outputs": [
        {
          "output_type": "stream",
          "text": [
            "Done\n"
          ],
          "name": "stdout"
        }
      ]
    },
    {
      "cell_type": "code",
      "metadata": {
        "id": "-f3F6-k_F9wR",
        "colab_type": "code",
        "colab": {}
      },
      "source": [
        "# cmd([\n",
        "#     f'rm -f input.pdb && pdb_tidy outputs/3gbm_0_6w41_0_HLC_Docked_Hex.pdb | pdb_reatom | pdb_reres > input.pdb',\n",
        "# ])\n",
        "\n",
        "# df = compute_contacts('input.pdb', '6w41', 0, '6w41', 0, ['H', 'L', 'C'])\n",
        "# clear_output()\n",
        "# display(df)\n",
        "# plot_contacts(df, 0)\n",
        "# plot_contacts(df, 3)"
      ],
      "execution_count": null,
      "outputs": []
    }
  ]
}