{
  "nbformat": 4,
  "nbformat_minor": 0,
  "metadata": {
    "colab": {
      "name": "docking-hex.ipynb",
      "provenance": [],
      "collapsed_sections": [],
      "include_colab_link": true
    },
    "kernelspec": {
      "name": "python3",
      "display_name": "Python 3"
    },
    "accelerator": "GPU"
  },
  "cells": [
    {
      "cell_type": "markdown",
      "metadata": {
        "id": "view-in-github",
        "colab_type": "text"
      },
      "source": [
        "<a href=\"https://colab.research.google.com/github/rvanasa/deep-antibody/blob/master/docking_hex.ipynb\" target=\"_parent\"><img src=\"https://colab.research.google.com/assets/colab-badge.svg\" alt=\"Open In Colab\"/></a>"
      ]
    },
    {
      "cell_type": "code",
      "metadata": {
        "id": "Y-GuD3h9bCgF",
        "colab_type": "code",
        "cellView": "form",
        "colab": {}
      },
      "source": [
        "#@title Google Drive setup\n",
        "\n",
        "from IPython.display import clear_output\n",
        "from google.colab import drive\n",
        "drive.mount('/gdrive')\n",
        "clear_output()"
      ],
      "execution_count": null,
      "outputs": []
    },
    {
      "cell_type": "code",
      "metadata": {
        "id": "NzhPToWjLHgL",
        "colab_type": "code",
        "cellView": "form",
        "colab": {}
      },
      "source": [
        "#@title Workspace setup\n",
        "\n",
        "!pip install -q biopython pdb-tools\n",
        "\n",
        "from IPython.display import clear_output, display\n",
        "clear_output()\n",
        "\n",
        "import os\n",
        "import numpy as np\n",
        "import pandas as pd\n",
        "import matplotlib.pyplot as plt\n",
        "import requests\n",
        "import Bio\n",
        "import Bio.PDB\n",
        "from Bio.PDB import DSSP\n",
        "\n",
        "contact_buffer = 4\n",
        "contact_window_size = contact_buffer * 2 + 1\n",
        "\n",
        "amino_acids = ['ALA', 'ARG', 'ASN', 'ASP', 'CYS', 'GLU', 'GLN', 'GLY', 'HIS', 'ILE', 'LEU', 'LYS', 'MET', 'PHE', 'PRO', 'SER', 'THR', 'TRP', 'TYR', 'VAL', '???']\n",
        "oneletters = 'ARNDCEQGHILKMFPSTWYV'\n",
        "ssletters = 'HBEGITS'\n",
        "\n",
        "parser = Bio.PDB.PDBParser(QUIET=True)\n",
        "\n",
        "def parse(ident, cache_dir=None):\n",
        "  cache_dir = cache_dir.rstrip('/') + '/' if cache_dir else ''\n",
        "  filename = ident if ident.endswith('.pdb') else f'{cache_dir}{ident}.pdb'\n",
        "  if '.' not in ident and not os.path.exists(filename):\n",
        "    !wget -nc https://files.rcsb.org/download/{ident}.pdb\n",
        "    !mv {ident}.pdb {cache_dir}\n",
        "  return parser.get_structure(ident, filename)\n",
        "\n",
        "loaded_dssp = False\n",
        "\n",
        "def run_dssp(filename, cache_dir=None):\n",
        "  global loaded_dssp\n",
        "  if not loaded_dssp:\n",
        "    loaded_dssp = True\n",
        "    !wget -N ftp://ftp.cmbi.ru.nl/pub/software/dssp/dssp-2.0.4-linux-amd64 -O /usr/local/bin/dssp && chmod +x /usr/local/bin/dssp\n",
        "  \n",
        "  structure = parse(filename, cache_dir)\n",
        "  adfs = []\n",
        "  for model in structure.get_models():\n",
        "    index_lookup = {(chain.id, res.id): i for chain in model.get_chains() for i, res in enumerate(trim_residues(chain.get_residues()))}\n",
        "\n",
        "    dssp = DSSP(model, filename)\n",
        "    rows = [(key, index_lookup[key, res_id], *v[1:]) for (key, res_id), v in dssp.property_dict.items()]\n",
        "\n",
        "    dfs = pd.DataFrame(rows, columns=[\n",
        "        'Key', 'Index', 'Residue',\n",
        "        'SS', 'ASA', 'Phi', 'Psi',\n",
        "        'NH->O_1_relidx', 'NH->O_1_energy',\n",
        "        'O->NH_1_relidx', 'O->NH_1_energy',\n",
        "        'NH->O_2_relidx', 'NH->O_2_energy',\n",
        "        'O->NH_2_relidx', 'O->NH_2_energy'])\n",
        "    \n",
        "    dfs.insert(0, 'Model', model.id)\n",
        "    adfs.append(dfs)\n",
        "  return pd.concat(adfs)\n",
        "\n",
        "\n",
        "def trim_residues(rs):\n",
        "  rs = [r for r in rs if r.resname != 'HOH']\n",
        "  while rs and rs[0].resname not in amino_acids:\n",
        "    rs = rs[1:]\n",
        "  while rs and rs[-1].resname not in amino_acids:\n",
        "    rs = rs[:-1]\n",
        "  return rs\n",
        "\n",
        "\n",
        "def create_seq(rs):\n",
        "  return ''.join(oneletters[amino_acids.index(r)] if r in amino_acids else 'X' for r in rs)\n",
        "\n",
        "\n",
        "def cmd(command, always_succeed=False):\n",
        "  if not isinstance(command, str):\n",
        "    for c in command:\n",
        "      cmd(c)\n",
        "  elif os.system(command) and not always_succeed:\n",
        "    raise Exception(f'Non-zero exit code in command: $ {command}')"
      ],
      "execution_count": null,
      "outputs": []
    },
    {
      "cell_type": "code",
      "metadata": {
        "id": "Ga1R-jYWK1jL",
        "colab_type": "code",
        "cellView": "form",
        "colab": {}
      },
      "source": [
        "#@title CUDA installation\n",
        "\n",
        "!apt update -qq\n",
        "!wget -nc https://developer.nvidia.com/compute/cuda/8.0/Prod2/local_installers/cuda-repo-ubuntu1604-8-0-local-ga2_8.0.61-1_amd64-deb\n",
        "!dpkg -i cuda-repo-ubuntu1604-8-0-local-ga2_8.0.61-1_amd64-deb\n",
        "!apt-key add /var/cuda-repo-8-0-local-ga2/7fa2af80.pub\n",
        "!apt update -qq\n",
        "# !apt install cuda gcc-5 g++5 -y -qq\n",
        "!apt install gcc-5 g++5 -y -qq ###\n",
        "!ln -s /usr/bin/gcc-5 /usr/local/cuda/bin/gcc\n",
        "!ln -s /usr/bin/g++5 /usr/local/cuda/bin/g++\n",
        "!apt install cuda-8.0\n",
        "clear_output()"
      ],
      "execution_count": null,
      "outputs": []
    },
    {
      "cell_type": "code",
      "metadata": {
        "id": "K1_JAIUQCzcz",
        "colab_type": "code",
        "cellView": "form",
        "colab": {}
      },
      "source": [
        "#@title Hex installation\n",
        "\n",
        "%env HEX_VERSION=hex-8.1.1-x64-centos7-cuda-8.0\n",
        "%env HEX_ROOT=/root/hex\n",
        "%env HEX_CACHE=/root/hex_cache\n",
        "!wget -nc http://hex.loria.fr/dist800/$HEX_VERSION.run\n",
        "!chmod +x $HEX_VERSION.run\n",
        "!printf 'y\\ny\\n\\ny\\ny\\ny\\n\\ny\\ny\\ny\\n' | sudo ./$HEX_VERSION.run\n",
        "clear_output()"
      ],
      "execution_count": null,
      "outputs": []
    },
    {
      "cell_type": "code",
      "metadata": {
        "id": "laPqgWOIRQdo",
        "colab_type": "code",
        "cellView": "form",
        "colab": {
          "base_uri": "https://localhost:8080/",
          "height": 34
        },
        "outputId": "9f829b93-bcb5-4198-e772-f0a42dbad2c7"
      },
      "source": [
        "#@title Hex docking macro\n",
        "\n",
        "%%file hex_dock.mac\n",
        "\n",
        "docking_fft_device  2\n",
        "docking_fft_type    5\n",
        "\n",
        "# moving_thing 1\n",
        "# randomise_molecule\n",
        "# commit_view\n",
        "# moving_thing 2\n",
        "# randomise_molecule\n",
        "# commit_view\n",
        "# moving_thing -1\n",
        "\n",
        "# docking_correlation 1\n",
        "\n",
        "# receptor_range_angle 180\n",
        "# ligand_range_angle 30\n",
        "# twist_range_angle 360\n",
        "\n",
        "docking_main_scan   16\n",
        "docking_main_search 25\n",
        "\n",
        "activate_docking 1\n",
        "\n",
        "# activate_matching\n",
        "# view_matching_solution -1\n",
        "# save_range 1 500 /content/ results_match pdb\n",
        "\n",
        "save_range 1 100 /content/results result pdb\n",
        "\n",
        "\n",
        "# open_complex /content/result.pdb\n",
        "# fit_ligand\n",
        "# save_both /content/result_fit.pdb\n"
      ],
      "execution_count": null,
      "outputs": [
        {
          "output_type": "stream",
          "text": [
            "Writing hex_dock.mac\n"
          ],
          "name": "stdout"
        }
      ]
    },
    {
      "cell_type": "code",
      "metadata": {
        "id": "yysx_VLv5DHF",
        "colab_type": "code",
        "cellView": "form",
        "colab": {}
      },
      "source": [
        "#@title Hex docking process\n",
        "\n",
        "!mkdir -p inputs/\n",
        "\n",
        "def dock(bname, bmodel, aname, amodel, keys, split_models=True, replace=True):\n",
        "  hk, lk, ak = keys\n",
        "\n",
        "  output_file = f'outputs/{bname}_{bmodel}_{aname}_{amodel}_{hk}{lk}{ak}_Docked_Hex.pdb'\n",
        "  if not replace and os.path.exists(output_file):\n",
        "    print('Skipping:', bname, bmodel, hk, lk, '<>', aname, amodel, ak)\n",
        "    return\n",
        "\n",
        "  if split_models:\n",
        "    for name, model in [(bname, bmodel), (aname, amodel)]:\n",
        "      if not os.path.exists(f'inputs/{name}_{model}.pdb'):\n",
        "        structure = parse(name, 'inputs/')\n",
        "        for s_model in structure.get_models():\n",
        "          if s_model.id != model:\n",
        "            structure.detach_child(s_model)\n",
        "        \n",
        "        from Bio.PDB.PDBIO import PDBIO\n",
        "        io = PDBIO()\n",
        "        io.set_structure(structure)\n",
        "        io.save(f'inputs/{name}_{model}.pdb')\n",
        "\n",
        "        # cmd([\n",
        "        #     f'cp {name}.pdb inputs/{name}.pdb',\n",
        "        #     f'pdb_splitmodel inputs/{name}.pdb',\n",
        "        # ])\n",
        "  else:\n",
        "    parse(bname, 'inputs/')\n",
        "    parse(aname, 'inputs/')\n",
        "    cmd([\n",
        "        f'cp inputs/{bname}.pdb inputs/{bname}_{bmodel}.pdb',\n",
        "        f'cp inputs/{aname}.pdb inputs/{aname}_{amodel}.pdb',\n",
        "    ])\n",
        "  \n",
        "  clear_output()\n",
        "  print(bname, bmodel, ''.join([hk, lk]), '<>', aname, amodel, ak)\n",
        "\n",
        "  cmd([\n",
        "       f'pdb_selchain -{hk},{lk} inputs/{bname}_{bmodel}.pdb | pdb_tidy > inputs/{bname}_{bmodel}_{hk}{lk}.pdb',\n",
        "       f'pdb_selchain -{ak} inputs/{aname}_{amodel}.pdb | pdb_tidy > inputs/{aname}_{amodel}_{ak}.pdb',\n",
        "       f'rm -rf results/ && mkdir results/',\n",
        "  ])\n",
        "  cmd(f'sudo /root/hex/exe/hex8.1.1-cuda.x64 -nogui /content/inputs/{bname}_{bmodel}_{hk}{lk}.pdb /content/inputs/{aname}_{amodel}_{ak}.pdb -e /content/hex_dock.mac > hex_log.txt', True)\n",
        "  # !sudo /root/hex/exe/hex8.1.1-cuda.x64 -nogui /content/inputs/{bname}_{bmodel}_{hk}{lk}.pdb /content/inputs/{aname}_{amodel}_{ak}.pdb -e /content/hex_dock.mac > hex_log.txt\n",
        "  result_files = ' '.join('results/' + s for s in os.listdir('results/'))\n",
        "  assert len(result_files), 'No result files'\n",
        "  cmd([\n",
        "      f'pdb_mkensemble {result_files} > {output_file}',\n",
        "  ])"
      ],
      "execution_count": null,
      "outputs": []
    },
    {
      "cell_type": "code",
      "metadata": {
        "id": "7B0OCvvmlY1D",
        "colab_type": "code",
        "colab": {}
      },
      "source": [
        "!rm -f ./outputs && ln -s \"/gdrive/Shared drives/TA(CO)^2 Re-Epitoping/Data/Hex\" ./outputs"
      ],
      "execution_count": null,
      "outputs": []
    },
    {
      "cell_type": "code",
      "metadata": {
        "id": "6X7-k5pWvno0",
        "colab_type": "code",
        "colab": {
          "base_uri": "https://localhost:8080/",
          "height": 34
        },
        "outputId": "b6835ba5-4d8b-4174-e38a-af967276f200"
      },
      "source": [
        "!wget -N https://raw.githubusercontent.com/rvanasa/deep-antibody/master/thera_collection.zip\n",
        "!unzip -nq thera_collection.zip\n",
        "clear_output()\n",
        "\n",
        "dfdx = pd.read_csv('docked_preprocessed.csv')\n",
        "dfdx = dfdx[dfdx.File.isin([f'{name}.pdb' for name in '2dd8, 2ghw, 3bgf, 4k7p, 5vzr, 5zv3, 6nb7, 6w41, 6wps, 6yla, 6yor, 7bz5'.split(', ')])]\n",
        "print(list(dfdx.File.unique()))"
      ],
      "execution_count": null,
      "outputs": [
        {
          "output_type": "stream",
          "text": [
            "['2dd8.pdb', '2ghw.pdb', '3bgf.pdb', '5zv3.pdb', '6nb7.pdb', '6w41.pdb', '6wps.pdb', '6yla.pdb', '6yor.pdb', '7bz5.pdb']\n"
          ],
          "name": "stdout"
        }
      ]
    },
    {
      "cell_type": "code",
      "metadata": {
        "id": "CpQyP_2QtEKp",
        "colab_type": "code",
        "colab": {
          "base_uri": "https://localhost:8080/",
          "height": 34
        },
        "outputId": "da001e7d-f915-4aec-9e1c-962c19b734d4"
      },
      "source": [
        "dft = pd.read_csv('thera_prioritized.csv')\n",
        "dft = pd.concat([dfdx, dft])\n",
        "\n",
        "# controls = [('6w41', 0, 'C'), ('7bz5', 0, 'A'), ('6yor', 0, 'A'), ('6yla', 0, 'A'), ('6wps', 0, 'A'), ('6nb7', 0, 'A'), ('6wps', 0, 'B'), ('6yla', 0, 'E'), ('6yor', 0, 'E'), ('6wps', 0, 'E')]\n",
        "controls = [('6w41', 0, 'C'), ('7bz5', 0, 'A'), ('6yor', 0, 'A'), ('6yla', 0, 'A'), ('6wps', 0, 'A'), ('6nb7', 0, 'A'), ('6wps', 0, 'B')]\n",
        "\n",
        "for t in controls:\n",
        "  assert t in dfdx[['File', 'Model', 'AKey']].values, f'{t} not found'\n",
        "\n",
        "for aname, amodel, ak in controls:\n",
        "  for i, row in dft.iterrows():\n",
        "    bname, bmodel, hk, lk = row.File.replace('.pdb', ''), row.Model, row.HKey, row.LKey\n",
        "\n",
        "    # assert hk != lk != ak\n",
        "    if not (hk != lk != ak):\n",
        "      print('Key collision')\n",
        "      continue\n",
        "    \n",
        "    dock(bname, bmodel, aname, amodel, (hk, lk, ak), split_models=False, replace=False)\n",
        "\n",
        "clear_output()\n",
        "print('Done')"
      ],
      "execution_count": null,
      "outputs": [
        {
          "output_type": "stream",
          "text": [
            "Done\n"
          ],
          "name": "stdout"
        }
      ]
    },
    {
      "cell_type": "code",
      "metadata": {
        "id": "6uGwtQcEH0Ev",
        "colab_type": "code",
        "colab": {}
      },
      "source": [
        "# dft = pd.read_csv('thera_prioritized_0.csv')\n",
        "\n",
        "# dfb = pd.read_csv('B_agg.csv')\n",
        "# dfb = dfb.rename(columns=dict(BFile='File')).merge(dft, on='File').sort_values('Result', ascending=False)\n",
        "\n",
        "# dfa = dft[dft.Priority == max(dft.Priority)]\n",
        "# dfa = dfa[::len(dfa) // 10]\n",
        "# dfa = pd.concat([dfdx, dfa])\n",
        "\n",
        "# for _, brow in dfb.iterrows():\n",
        "#   bname, bmodel, hk, lk = brow.File.replace('.pdb', ''), brow.Model, brow.HKey, brow.LKey\n",
        "\n",
        "#   for _, arow in dfa[::-1].append(brow)[::-1].iterrows():\n",
        "#     aname, amodel, ak = arow.File.replace('.pdb', ''), arow.Model, arow.AKey\n",
        "\n",
        "#     # assert hk != lk != ak\n",
        "#     if not (hk != lk != ak):\n",
        "#       print('Key collision')\n",
        "#       continue\n",
        "\n",
        "#     dock(bname, bmodel, aname, amodel, (hk, lk, ak), split_models=False, replace=False)\n",
        "\n",
        "# clear_output()\n",
        "# print('Done')"
      ],
      "execution_count": null,
      "outputs": []
    },
    {
      "cell_type": "code",
      "metadata": {
        "id": "GYXmM5sx1jDk",
        "colab_type": "code",
        "colab": {}
      },
      "source": [
        "# dock('6w41', 0, '6w41', 0, 'HLC', split_models=False, replace=False)"
      ],
      "execution_count": null,
      "outputs": []
    }
  ]
}